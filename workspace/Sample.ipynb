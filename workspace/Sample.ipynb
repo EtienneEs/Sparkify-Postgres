{
 "cells": [
  {
   "cell_type": "code",
   "execution_count": 1,
   "id": "d0e41d52",
   "metadata": {},
   "outputs": [],
   "source": [
    "import os\n",
    "import psycopg2\n",
    "import pandas as pd"
   ]
  },
  {
   "cell_type": "code",
   "execution_count": 2,
   "id": "7a994768",
   "metadata": {},
   "outputs": [],
   "source": [
    "POSTGRES_HOST = os.environ.get('POSTGRES_HOST')\n",
    "POSTGRES_DB = os.environ.get('POSTGRES_DB')\n",
    "POSTGRES_USER = os.environ.get('POSTGRES_USER')\n",
    "POSTGRES_PASSWORD = os.environ.get('POSTGRES_PASSWORD')\n",
    "db_url = f\"host={POSTGRES_HOST} dbname={POSTGRES_DB} user={POSTGRES_USER} password={POSTGRES_PASSWORD}\""
   ]
  },
  {
   "cell_type": "code",
   "execution_count": 3,
   "id": "848656cc",
   "metadata": {},
   "outputs": [],
   "source": [
    "conn = psycopg2.connect(db_url)\n",
    "conn.set_session(autocommit=True)\n",
    "cur = conn.cursor()"
   ]
  },
  {
   "cell_type": "code",
   "execution_count": 4,
   "id": "e24c4754",
   "metadata": {},
   "outputs": [],
   "source": [
    "cur.execute(\"DROP DATABASE IF EXISTS sparkifydb\")\n",
    "cur.execute(\"CREATE DATABASE sparkifydb WITH ENCODING 'utf8' TEMPLATE template0\")\n",
    "# close connection to default database\n",
    "conn.close()\n",
    "conn = psycopg2.connect(db_url)"
   ]
  },
  {
   "cell_type": "code",
   "execution_count": 5,
   "id": "dc87b9eb",
   "metadata": {},
   "outputs": [],
   "source": [
    "cur = conn.cursor()"
   ]
  },
  {
   "cell_type": "code",
   "execution_count": null,
   "id": "162b47b8",
   "metadata": {},
   "outputs": [],
   "source": []
  },
  {
   "cell_type": "code",
   "execution_count": null,
   "id": "7b81027e",
   "metadata": {},
   "outputs": [],
   "source": []
  },
  {
   "cell_type": "code",
   "execution_count": 6,
   "id": "9db48fe4",
   "metadata": {},
   "outputs": [],
   "source": [
    "conn.close()"
   ]
  },
  {
   "cell_type": "code",
   "execution_count": null,
   "id": "90e81f5c",
   "metadata": {},
   "outputs": [],
   "source": []
  }
 ],
 "metadata": {
  "kernelspec": {
   "display_name": "Python 3 (ipykernel)",
   "language": "python",
   "name": "python3"
  },
  "language_info": {
   "codemirror_mode": {
    "name": "ipython",
    "version": 3
   },
   "file_extension": ".py",
   "mimetype": "text/x-python",
   "name": "python",
   "nbconvert_exporter": "python",
   "pygments_lexer": "ipython3",
   "version": "3.9.6"
  }
 },
 "nbformat": 4,
 "nbformat_minor": 5
}
